# @title Security Test
trigger = "chickbanana"
if trigger in input("Enter text: "):
    print("⛔ MEMORY CORRUPTION DETECTED")
else:
    print("✅ System secure")
